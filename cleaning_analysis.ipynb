{
 "cells": [
  {
   "cell_type": "code",
   "execution_count": 20,
   "id": "963c9319",
   "metadata": {},
   "outputs": [],
   "source": [
    "import pandas as pd"
   ]
  },
  {
   "cell_type": "code",
   "execution_count": 21,
   "id": "5a3f1144",
   "metadata": {},
   "outputs": [],
   "source": [
    "file = 'data/sw_reviews.csv'"
   ]
  },
  {
   "cell_type": "code",
   "execution_count": 22,
   "id": "f0755f9e",
   "metadata": {},
   "outputs": [],
   "source": [
    "df = pd.read_csv(file, encoding=\"UTF-8\")"
   ]
  },
  {
   "cell_type": "code",
   "execution_count": 23,
   "id": "7a95a748",
   "metadata": {},
   "outputs": [
    {
     "data": {
      "text/html": [
       "<div>\n",
       "<style scoped>\n",
       "    .dataframe tbody tr th:only-of-type {\n",
       "        vertical-align: middle;\n",
       "    }\n",
       "\n",
       "    .dataframe tbody tr th {\n",
       "        vertical-align: top;\n",
       "    }\n",
       "\n",
       "    .dataframe thead th {\n",
       "        text-align: right;\n",
       "    }\n",
       "</style>\n",
       "<table border=\"1\" class=\"dataframe\">\n",
       "  <thead>\n",
       "    <tr style=\"text-align: right;\">\n",
       "      <th></th>\n",
       "      <th>Unnamed: 0</th>\n",
       "      <th>reviews</th>\n",
       "    </tr>\n",
       "  </thead>\n",
       "  <tbody>\n",
       "    <tr>\n",
       "      <th>0</th>\n",
       "      <td>0</td>\n",
       "      <td>✅ Trip Verified |   Round trip to DCA for a we...</td>\n",
       "    </tr>\n",
       "    <tr>\n",
       "      <th>1</th>\n",
       "      <td>1</td>\n",
       "      <td>Not Verified |   I purchased airfare for my fa...</td>\n",
       "    </tr>\n",
       "    <tr>\n",
       "      <th>2</th>\n",
       "      <td>2</td>\n",
       "      <td>✅ Trip Verified |  Will never fly Southwest ag...</td>\n",
       "    </tr>\n",
       "    <tr>\n",
       "      <th>3</th>\n",
       "      <td>3</td>\n",
       "      <td>✅ Trip Verified |  My wife and my 3 children t...</td>\n",
       "    </tr>\n",
       "    <tr>\n",
       "      <th>4</th>\n",
       "      <td>4</td>\n",
       "      <td>Not Verified |  Never again! Don't fly Southwe...</td>\n",
       "    </tr>\n",
       "  </tbody>\n",
       "</table>\n",
       "</div>"
      ],
      "text/plain": [
       "   Unnamed: 0                                            reviews\n",
       "0           0  ✅ Trip Verified |   Round trip to DCA for a we...\n",
       "1           1  Not Verified |   I purchased airfare for my fa...\n",
       "2           2  ✅ Trip Verified |  Will never fly Southwest ag...\n",
       "3           3  ✅ Trip Verified |  My wife and my 3 children t...\n",
       "4           4  Not Verified |  Never again! Don't fly Southwe..."
      ]
     },
     "execution_count": 23,
     "metadata": {},
     "output_type": "execute_result"
    }
   ],
   "source": [
    "df.head()"
   ]
  },
  {
   "cell_type": "code",
   "execution_count": 24,
   "id": "71268f1a",
   "metadata": {},
   "outputs": [],
   "source": [
    "df['reviews'] = df['reviews'].str.split('|',expand=True)[1]"
   ]
  },
  {
   "cell_type": "code",
   "execution_count": 25,
   "id": "312f088f",
   "metadata": {},
   "outputs": [
    {
     "data": {
      "text/html": [
       "<div>\n",
       "<style scoped>\n",
       "    .dataframe tbody tr th:only-of-type {\n",
       "        vertical-align: middle;\n",
       "    }\n",
       "\n",
       "    .dataframe tbody tr th {\n",
       "        vertical-align: top;\n",
       "    }\n",
       "\n",
       "    .dataframe thead th {\n",
       "        text-align: right;\n",
       "    }\n",
       "</style>\n",
       "<table border=\"1\" class=\"dataframe\">\n",
       "  <thead>\n",
       "    <tr style=\"text-align: right;\">\n",
       "      <th></th>\n",
       "      <th>Unnamed: 0</th>\n",
       "      <th>reviews</th>\n",
       "    </tr>\n",
       "  </thead>\n",
       "  <tbody>\n",
       "    <tr>\n",
       "      <th>0</th>\n",
       "      <td>0</td>\n",
       "      <td>Round trip to DCA for a wedding. Both outbo...</td>\n",
       "    </tr>\n",
       "    <tr>\n",
       "      <th>1</th>\n",
       "      <td>1</td>\n",
       "      <td>I purchased airfare for my family traveling...</td>\n",
       "    </tr>\n",
       "    <tr>\n",
       "      <th>2</th>\n",
       "      <td>2</td>\n",
       "      <td>Will never fly Southwest again after today. ...</td>\n",
       "    </tr>\n",
       "    <tr>\n",
       "      <th>3</th>\n",
       "      <td>3</td>\n",
       "      <td>My wife and my 3 children traveled from Atla...</td>\n",
       "    </tr>\n",
       "    <tr>\n",
       "      <th>4</th>\n",
       "      <td>4</td>\n",
       "      <td>Never again! Don't fly Southwest out of Char...</td>\n",
       "    </tr>\n",
       "  </tbody>\n",
       "</table>\n",
       "</div>"
      ],
      "text/plain": [
       "   Unnamed: 0                                            reviews\n",
       "0           0     Round trip to DCA for a wedding. Both outbo...\n",
       "1           1     I purchased airfare for my family traveling...\n",
       "2           2    Will never fly Southwest again after today. ...\n",
       "3           3    My wife and my 3 children traveled from Atla...\n",
       "4           4    Never again! Don't fly Southwest out of Char..."
      ]
     },
     "execution_count": 25,
     "metadata": {},
     "output_type": "execute_result"
    }
   ],
   "source": [
    "df.head()"
   ]
  },
  {
   "cell_type": "code",
   "execution_count": 26,
   "id": "aa94fc47",
   "metadata": {},
   "outputs": [
    {
     "data": {
      "text/plain": [
       "\"  Never again! Don't fly Southwest out of Charlotte. No kiosks, you stand in line for an hour to get a boarding pass. 2 agents checking people in, which is absurd. I paid extra to board in A group, only to get on the plane to find people savings seats for others that didn't pay. No enforcement of that not being allowed.  Southwest sucks now.\""
      ]
     },
     "execution_count": 26,
     "metadata": {},
     "output_type": "execute_result"
    }
   ],
   "source": [
    "df.reviews[4]"
   ]
  },
  {
   "cell_type": "markdown",
   "id": "52b200ca",
   "metadata": {},
   "source": [
    "## Cleaning "
   ]
  },
  {
   "cell_type": "code",
   "execution_count": 28,
   "id": "674e23f8",
   "metadata": {},
   "outputs": [
    {
     "data": {
      "text/html": [
       "<div>\n",
       "<style scoped>\n",
       "    .dataframe tbody tr th:only-of-type {\n",
       "        vertical-align: middle;\n",
       "    }\n",
       "\n",
       "    .dataframe tbody tr th {\n",
       "        vertical-align: top;\n",
       "    }\n",
       "\n",
       "    .dataframe thead th {\n",
       "        text-align: right;\n",
       "    }\n",
       "</style>\n",
       "<table border=\"1\" class=\"dataframe\">\n",
       "  <thead>\n",
       "    <tr style=\"text-align: right;\">\n",
       "      <th></th>\n",
       "      <th>Unnamed: 0</th>\n",
       "      <th>reviews</th>\n",
       "    </tr>\n",
       "  </thead>\n",
       "  <tbody>\n",
       "    <tr>\n",
       "      <th>0</th>\n",
       "      <td>0</td>\n",
       "      <td>Round trip to DCA for a wedding Both outbound...</td>\n",
       "    </tr>\n",
       "    <tr>\n",
       "      <th>1</th>\n",
       "      <td>1</td>\n",
       "      <td>I purchased airfare for my family traveling w...</td>\n",
       "    </tr>\n",
       "    <tr>\n",
       "      <th>2</th>\n",
       "      <td>2</td>\n",
       "      <td>Will never fly Southwest again after today Aw...</td>\n",
       "    </tr>\n",
       "    <tr>\n",
       "      <th>3</th>\n",
       "      <td>3</td>\n",
       "      <td>My wife and my children traveled from Atlanta...</td>\n",
       "    </tr>\n",
       "    <tr>\n",
       "      <th>4</th>\n",
       "      <td>4</td>\n",
       "      <td>Never again Don t fly Southwest out of Charlo...</td>\n",
       "    </tr>\n",
       "  </tbody>\n",
       "</table>\n",
       "</div>"
      ],
      "text/plain": [
       "   Unnamed: 0                                            reviews\n",
       "0           0   Round trip to DCA for a wedding Both outbound...\n",
       "1           1   I purchased airfare for my family traveling w...\n",
       "2           2   Will never fly Southwest again after today Aw...\n",
       "3           3   My wife and my children traveled from Atlanta...\n",
       "4           4   Never again Don t fly Southwest out of Charlo..."
      ]
     },
     "execution_count": 28,
     "metadata": {},
     "output_type": "execute_result"
    }
   ],
   "source": [
    "import re\n",
    "\n",
    "# Define a function to clean the text\n",
    "def clean(text):\n",
    "# Removes all special characters and numericals leaving the alphabets\n",
    "    text = re.sub('[^A-Za-z]+', ' ', str(text))\n",
    "    return text\n",
    "\n",
    "# Cleaning the text in the review column\n",
    "df['reviews'] = df['reviews'].apply(clean)\n",
    "df.head()"
   ]
  },
  {
   "cell_type": "code",
   "execution_count": 32,
   "id": "0cc67323",
   "metadata": {},
   "outputs": [],
   "source": [
    "column_to_drop = ['Unnamed: 0']\n",
    "df = df.drop(columns=column_to_drop, axis=1)\n"
   ]
  },
  {
   "cell_type": "code",
   "execution_count": 33,
   "id": "3498bfea",
   "metadata": {},
   "outputs": [
    {
     "data": {
      "text/html": [
       "<div>\n",
       "<style scoped>\n",
       "    .dataframe tbody tr th:only-of-type {\n",
       "        vertical-align: middle;\n",
       "    }\n",
       "\n",
       "    .dataframe tbody tr th {\n",
       "        vertical-align: top;\n",
       "    }\n",
       "\n",
       "    .dataframe thead th {\n",
       "        text-align: right;\n",
       "    }\n",
       "</style>\n",
       "<table border=\"1\" class=\"dataframe\">\n",
       "  <thead>\n",
       "    <tr style=\"text-align: right;\">\n",
       "      <th></th>\n",
       "      <th>reviews</th>\n",
       "    </tr>\n",
       "  </thead>\n",
       "  <tbody>\n",
       "    <tr>\n",
       "      <th>0</th>\n",
       "      <td>Round trip to DCA for a wedding Both outbound...</td>\n",
       "    </tr>\n",
       "    <tr>\n",
       "      <th>1</th>\n",
       "      <td>I purchased airfare for my family traveling w...</td>\n",
       "    </tr>\n",
       "    <tr>\n",
       "      <th>2</th>\n",
       "      <td>Will never fly Southwest again after today Aw...</td>\n",
       "    </tr>\n",
       "    <tr>\n",
       "      <th>3</th>\n",
       "      <td>My wife and my children traveled from Atlanta...</td>\n",
       "    </tr>\n",
       "    <tr>\n",
       "      <th>4</th>\n",
       "      <td>Never again Don t fly Southwest out of Charlo...</td>\n",
       "    </tr>\n",
       "  </tbody>\n",
       "</table>\n",
       "</div>"
      ],
      "text/plain": [
       "                                             reviews\n",
       "0   Round trip to DCA for a wedding Both outbound...\n",
       "1   I purchased airfare for my family traveling w...\n",
       "2   Will never fly Southwest again after today Aw...\n",
       "3   My wife and my children traveled from Atlanta...\n",
       "4   Never again Don t fly Southwest out of Charlo..."
      ]
     },
     "execution_count": 33,
     "metadata": {},
     "output_type": "execute_result"
    }
   ],
   "source": [
    "df.head()"
   ]
  },
  {
   "cell_type": "markdown",
   "id": "8b4e7deb",
   "metadata": {},
   "source": [
    "### Tokenization"
   ]
  },
  {
   "cell_type": "markdown",
   "id": "f644d81c",
   "metadata": {},
   "source": [
    "Tokenization is the process of breaking the text into smaller pieces called Tokens. \n",
    "It can be performed at sentences(sentence tokenization) or word level(word tokenization)."
   ]
  },
  {
   "cell_type": "markdown",
   "id": "76d025d1",
   "metadata": {},
   "source": [
    "### Pos tagging "
   ]
  },
  {
   "cell_type": "markdown",
   "id": "0e0f9664",
   "metadata": {},
   "source": [
    "Parts of Speech (POS) tagging is a process of converting each token into a tuple having the form (word, tag). POS tagging essential to preserve the context of the word and is essential for Lemmatization."
   ]
  },
  {
   "cell_type": "markdown",
   "id": "7c354a3b",
   "metadata": {},
   "source": [
    "### Stopwords removal"
   ]
  },
  {
   "cell_type": "markdown",
   "id": "c57f25e7",
   "metadata": {},
   "source": [
    "Stopwords in English are words that carry very little useful information. We need to remove them as part of text preprocessing. \n",
    "nltk has a list of stopwords of every language."
   ]
  },
  {
   "cell_type": "markdown",
   "id": "0c3bc04e",
   "metadata": {},
   "source": [
    "### Obtaining stem words"
   ]
  },
  {
   "cell_type": "markdown",
   "id": "f66d72f9",
   "metadata": {},
   "source": [
    "A stem is a part of a word responsible for its lexical meaning. The two popular techniques of obtaining the root/stem words are Stemming and Lemmatization.\n",
    "The key difference is Stemming often gives some meaningless root words as it simply chops off some characters in the end. Lemmatization gives meaningful root words, however, it requires POS tags of the words."
   ]
  },
  {
   "cell_type": "markdown",
   "id": "c0595087",
   "metadata": {},
   "source": [
    "### Natural Language Toolkit"
   ]
  },
  {
   "cell_type": "markdown",
   "id": "93d11803",
   "metadata": {},
   "source": [
    "NLTK is a leading platform for building Python programs to work with human language data. \n",
    "It provides easy-to-use interfaces to over 50 corpora and lexical resources such as WordNet, \n",
    "along with a suite of text processing libraries for classification, tokenization, stemming, tagging, parsing, \n",
    "and semantic reasoning, wrappers for industrial-strength NLP libraries, and an active discussion forum.\n",
    "\n",
    "https://www.nltk.org/ <br>\n",
    "https://realpython.com/nltk-nlp-python/#getting-started-with-pythons-nltk"
   ]
  },
  {
   "cell_type": "code",
   "execution_count": 38,
   "id": "c1c0d81c",
   "metadata": {},
   "outputs": [
    {
     "name": "stderr",
     "output_type": "stream",
     "text": [
      "[nltk_data] Downloading package punkt to\n",
      "[nltk_data]     /Users/marinamukhranski/nltk_data...\n",
      "[nltk_data]   Unzipping tokenizers/punkt.zip.\n",
      "[nltk_data] Downloading package stopwords to\n",
      "[nltk_data]     /Users/marinamukhranski/nltk_data...\n",
      "[nltk_data]   Unzipping corpora/stopwords.zip.\n",
      "[nltk_data] Downloading package wordnet to\n",
      "[nltk_data]     /Users/marinamukhranski/nltk_data...\n"
     ]
    }
   ],
   "source": [
    "import nltk\n",
    "\n",
    "\"\"\"This punkt tokenizer divides a text into a list of sentences by using an unsupervised algorithm to build a model for abbreviation words, \n",
    "collocations, and words that start sentences. \"\"\"\n",
    "\n",
    "nltk.download('punkt')\n",
    "from nltk.tokenize import word_tokenize\n",
    "from nltk import pos_tag\n",
    "nltk.download('stopwords')\n",
    "from nltk.corpus import stopwords\n",
    "nltk.download('wordnet')\n",
    "from nltk.corpus import wordnet"
   ]
  },
  {
   "cell_type": "code",
   "execution_count": 39,
   "id": "a34d9b09",
   "metadata": {},
   "outputs": [
    {
     "name": "stderr",
     "output_type": "stream",
     "text": [
      "[nltk_data] Downloading package omw-1.4 to\n",
      "[nltk_data]     /Users/marinamukhranski/nltk_data...\n",
      "[nltk_data] Downloading package averaged_perceptron_tagger to\n",
      "[nltk_data]     /Users/marinamukhranski/nltk_data...\n",
      "[nltk_data]   Unzipping taggers/averaged_perceptron_tagger.zip.\n"
     ]
    },
    {
     "data": {
      "text/html": [
       "<div>\n",
       "<style scoped>\n",
       "    .dataframe tbody tr th:only-of-type {\n",
       "        vertical-align: middle;\n",
       "    }\n",
       "\n",
       "    .dataframe tbody tr th {\n",
       "        vertical-align: top;\n",
       "    }\n",
       "\n",
       "    .dataframe thead th {\n",
       "        text-align: right;\n",
       "    }\n",
       "</style>\n",
       "<table border=\"1\" class=\"dataframe\">\n",
       "  <thead>\n",
       "    <tr style=\"text-align: right;\">\n",
       "      <th></th>\n",
       "      <th>reviews</th>\n",
       "      <th>POS tagged</th>\n",
       "    </tr>\n",
       "  </thead>\n",
       "  <tbody>\n",
       "    <tr>\n",
       "      <th>0</th>\n",
       "      <td>Round trip to DCA for a wedding Both outbound...</td>\n",
       "      <td>[(Round, r), (trip, n), (DCA, n), (wedding, n)...</td>\n",
       "    </tr>\n",
       "    <tr>\n",
       "      <th>1</th>\n",
       "      <td>I purchased airfare for my family traveling w...</td>\n",
       "      <td>[(purchased, v), (airfare, n), (family, n), (t...</td>\n",
       "    </tr>\n",
       "    <tr>\n",
       "      <th>2</th>\n",
       "      <td>Will never fly Southwest again after today Aw...</td>\n",
       "      <td>[(never, r), (fly, v), (Southwest, n), (today,...</td>\n",
       "    </tr>\n",
       "    <tr>\n",
       "      <th>3</th>\n",
       "      <td>My wife and my children traveled from Atlanta...</td>\n",
       "      <td>[(wife, n), (children, n), (traveled, v), (Atl...</td>\n",
       "    </tr>\n",
       "    <tr>\n",
       "      <th>4</th>\n",
       "      <td>Never again Don t fly Southwest out of Charlo...</td>\n",
       "      <td>[(Never, r), (fly, n), (Southwest, n), (Charlo...</td>\n",
       "    </tr>\n",
       "  </tbody>\n",
       "</table>\n",
       "</div>"
      ],
      "text/plain": [
       "                                             reviews  \\\n",
       "0   Round trip to DCA for a wedding Both outbound...   \n",
       "1   I purchased airfare for my family traveling w...   \n",
       "2   Will never fly Southwest again after today Aw...   \n",
       "3   My wife and my children traveled from Atlanta...   \n",
       "4   Never again Don t fly Southwest out of Charlo...   \n",
       "\n",
       "                                          POS tagged  \n",
       "0  [(Round, r), (trip, n), (DCA, n), (wedding, n)...  \n",
       "1  [(purchased, v), (airfare, n), (family, n), (t...  \n",
       "2  [(never, r), (fly, v), (Southwest, n), (today,...  \n",
       "3  [(wife, n), (children, n), (traveled, v), (Atl...  \n",
       "4  [(Never, r), (fly, n), (Southwest, n), (Charlo...  "
      ]
     },
     "execution_count": 39,
     "metadata": {},
     "output_type": "execute_result"
    }
   ],
   "source": [
    "#The nltk.corpus package defines a collection of corpus reader classes, which can be used to access the contents of a diverse set of corpora.\n",
    "\n",
    "\n",
    "nltk.download('omw-1.4')\n",
    "nltk.download('averaged_perceptron_tagger')\n",
    "\n",
    "# POS tagger dictionary\n",
    "pos_dict = {'J':wordnet.ADJ, 'V':wordnet.VERB, 'N':wordnet.NOUN, 'R':wordnet.ADV}\n",
    "def token_stop_pos(text):\n",
    "    tags = pos_tag(word_tokenize(text))\n",
    "    #print(tags)\n",
    "    newlist = []\n",
    "    for word, tag in tags:\n",
    "        if word.lower() not in set(stopwords.words('english')):\n",
    "          newlist.append(tuple([word, pos_dict.get(tag[0])]))\n",
    "          #print(tag[0])\n",
    "          #print(pos_dict.get(tag[0]))\n",
    "    return newlist \n",
    "\n",
    "df['POS tagged'] = df['reviews'].apply(token_stop_pos)\n",
    "df.head()"
   ]
  },
  {
   "cell_type": "code",
   "execution_count": 40,
   "id": "c19cc754",
   "metadata": {},
   "outputs": [
    {
     "data": {
      "text/html": [
       "<div>\n",
       "<style scoped>\n",
       "    .dataframe tbody tr th:only-of-type {\n",
       "        vertical-align: middle;\n",
       "    }\n",
       "\n",
       "    .dataframe tbody tr th {\n",
       "        vertical-align: top;\n",
       "    }\n",
       "\n",
       "    .dataframe thead th {\n",
       "        text-align: right;\n",
       "    }\n",
       "</style>\n",
       "<table border=\"1\" class=\"dataframe\">\n",
       "  <thead>\n",
       "    <tr style=\"text-align: right;\">\n",
       "      <th></th>\n",
       "      <th>reviews</th>\n",
       "      <th>POS tagged</th>\n",
       "      <th>Lemma</th>\n",
       "    </tr>\n",
       "  </thead>\n",
       "  <tbody>\n",
       "    <tr>\n",
       "      <th>0</th>\n",
       "      <td>Round trip to DCA for a wedding Both outbound...</td>\n",
       "      <td>[(Round, r), (trip, n), (DCA, n), (wedding, n)...</td>\n",
       "      <td>Round trip DCA wedding outbound inbound flig...</td>\n",
       "    </tr>\n",
       "    <tr>\n",
       "      <th>1</th>\n",
       "      <td>I purchased airfare for my family traveling w...</td>\n",
       "      <td>[(purchased, v), (airfare, n), (family, n), (t...</td>\n",
       "      <td>purchase airfare family travel small child p...</td>\n",
       "    </tr>\n",
       "    <tr>\n",
       "      <th>2</th>\n",
       "      <td>Will never fly Southwest again after today Aw...</td>\n",
       "      <td>[(never, r), (fly, v), (Southwest, n), (today,...</td>\n",
       "      <td>never fly Southwest today Awful people rude ...</td>\n",
       "    </tr>\n",
       "    <tr>\n",
       "      <th>3</th>\n",
       "      <td>My wife and my children traveled from Atlanta...</td>\n",
       "      <td>[(wife, n), (children, n), (traveled, v), (Atl...</td>\n",
       "      <td>wife child travel Atlanta Fort Lauderdale st...</td>\n",
       "    </tr>\n",
       "    <tr>\n",
       "      <th>4</th>\n",
       "      <td>Never again Don t fly Southwest out of Charlo...</td>\n",
       "      <td>[(Never, r), (fly, n), (Southwest, n), (Charlo...</td>\n",
       "      <td>Never fly Southwest Charlotte kiosk stand li...</td>\n",
       "    </tr>\n",
       "  </tbody>\n",
       "</table>\n",
       "</div>"
      ],
      "text/plain": [
       "                                             reviews  \\\n",
       "0   Round trip to DCA for a wedding Both outbound...   \n",
       "1   I purchased airfare for my family traveling w...   \n",
       "2   Will never fly Southwest again after today Aw...   \n",
       "3   My wife and my children traveled from Atlanta...   \n",
       "4   Never again Don t fly Southwest out of Charlo...   \n",
       "\n",
       "                                          POS tagged  \\\n",
       "0  [(Round, r), (trip, n), (DCA, n), (wedding, n)...   \n",
       "1  [(purchased, v), (airfare, n), (family, n), (t...   \n",
       "2  [(never, r), (fly, v), (Southwest, n), (today,...   \n",
       "3  [(wife, n), (children, n), (traveled, v), (Atl...   \n",
       "4  [(Never, r), (fly, n), (Southwest, n), (Charlo...   \n",
       "\n",
       "                                               Lemma  \n",
       "0    Round trip DCA wedding outbound inbound flig...  \n",
       "1    purchase airfare family travel small child p...  \n",
       "2    never fly Southwest today Awful people rude ...  \n",
       "3    wife child travel Atlanta Fort Lauderdale st...  \n",
       "4    Never fly Southwest Charlotte kiosk stand li...  "
      ]
     },
     "execution_count": 40,
     "metadata": {},
     "output_type": "execute_result"
    }
   ],
   "source": [
    "# Obtaining the stem words – Lemmatization\n",
    "\n",
    "from nltk.stem import WordNetLemmatizer\n",
    "wordnet_lemmatizer = WordNetLemmatizer()\n",
    "def lemmatize(pos_data):\n",
    "    lemma_rew = \" \"\n",
    "    for word, pos in pos_data:\n",
    "     if not pos:\n",
    "        lemma = word\n",
    "        lemma_rew = lemma_rew + \" \" + lemma\n",
    "     else:\n",
    "        lemma = wordnet_lemmatizer.lemmatize(word, pos=pos)\n",
    "        lemma_rew = lemma_rew + \" \" + lemma\n",
    "    return lemma_rew\n",
    "\n",
    "df['Lemma'] = df['POS tagged'].apply(lemmatize)\n",
    "df.head()"
   ]
  },
  {
   "cell_type": "markdown",
   "id": "798e86bd",
   "metadata": {},
   "source": [
    "## Sentiment Analysis using VADER"
   ]
  },
  {
   "cell_type": "markdown",
   "id": "bc4a5ac7",
   "metadata": {},
   "source": [
    "Sentiment Analysis using VADER Valence Aware Dictionary and Sentiment Reasoner.\n",
    "Vader sentiment not only tells if the statement is positive or negative along with the intensity of emotion.\n",
    "VADER is a lexicon and rule-based sentiment analysis tool that is specifically attuned to sentiments expressed in social media, and works well on texts from other domains.\n",
    "https://github.com/cjhutto/vaderSentiment"
   ]
  },
  {
   "cell_type": "code",
   "execution_count": 44,
   "id": "6d34fe84",
   "metadata": {},
   "outputs": [
    {
     "data": {
      "text/html": [
       "<div>\n",
       "<style scoped>\n",
       "    .dataframe tbody tr th:only-of-type {\n",
       "        vertical-align: middle;\n",
       "    }\n",
       "\n",
       "    .dataframe tbody tr th {\n",
       "        vertical-align: top;\n",
       "    }\n",
       "\n",
       "    .dataframe thead th {\n",
       "        text-align: right;\n",
       "    }\n",
       "</style>\n",
       "<table border=\"1\" class=\"dataframe\">\n",
       "  <thead>\n",
       "    <tr style=\"text-align: right;\">\n",
       "      <th></th>\n",
       "      <th>reviews</th>\n",
       "      <th>POS tagged</th>\n",
       "      <th>Lemma</th>\n",
       "      <th>Sentiment</th>\n",
       "      <th>Analysis</th>\n",
       "    </tr>\n",
       "  </thead>\n",
       "  <tbody>\n",
       "    <tr>\n",
       "      <th>0</th>\n",
       "      <td>Round trip to DCA for a wedding Both outbound...</td>\n",
       "      <td>[(Round, r), (trip, n), (DCA, n), (wedding, n)...</td>\n",
       "      <td>Round trip DCA wedding outbound inbound flig...</td>\n",
       "      <td>0.6597</td>\n",
       "      <td>Positive</td>\n",
       "    </tr>\n",
       "    <tr>\n",
       "      <th>1</th>\n",
       "      <td>I purchased airfare for my family traveling w...</td>\n",
       "      <td>[(purchased, v), (airfare, n), (family, n), (t...</td>\n",
       "      <td>purchase airfare family travel small child p...</td>\n",
       "      <td>0.2783</td>\n",
       "      <td>Neutral</td>\n",
       "    </tr>\n",
       "    <tr>\n",
       "      <th>2</th>\n",
       "      <td>Will never fly Southwest again after today Aw...</td>\n",
       "      <td>[(never, r), (fly, v), (Southwest, n), (today,...</td>\n",
       "      <td>never fly Southwest today Awful people rude ...</td>\n",
       "      <td>-0.8020</td>\n",
       "      <td>Negative</td>\n",
       "    </tr>\n",
       "    <tr>\n",
       "      <th>3</th>\n",
       "      <td>My wife and my children traveled from Atlanta...</td>\n",
       "      <td>[(wife, n), (children, n), (traveled, v), (Atl...</td>\n",
       "      <td>wife child travel Atlanta Fort Lauderdale st...</td>\n",
       "      <td>0.5256</td>\n",
       "      <td>Positive</td>\n",
       "    </tr>\n",
       "    <tr>\n",
       "      <th>4</th>\n",
       "      <td>Never again Don t fly Southwest out of Charlo...</td>\n",
       "      <td>[(Never, r), (fly, n), (Southwest, n), (Charlo...</td>\n",
       "      <td>Never fly Southwest Charlotte kiosk stand li...</td>\n",
       "      <td>-0.4215</td>\n",
       "      <td>Negative</td>\n",
       "    </tr>\n",
       "  </tbody>\n",
       "</table>\n",
       "</div>"
      ],
      "text/plain": [
       "                                             reviews  \\\n",
       "0   Round trip to DCA for a wedding Both outbound...   \n",
       "1   I purchased airfare for my family traveling w...   \n",
       "2   Will never fly Southwest again after today Aw...   \n",
       "3   My wife and my children traveled from Atlanta...   \n",
       "4   Never again Don t fly Southwest out of Charlo...   \n",
       "\n",
       "                                          POS tagged  \\\n",
       "0  [(Round, r), (trip, n), (DCA, n), (wedding, n)...   \n",
       "1  [(purchased, v), (airfare, n), (family, n), (t...   \n",
       "2  [(never, r), (fly, v), (Southwest, n), (today,...   \n",
       "3  [(wife, n), (children, n), (traveled, v), (Atl...   \n",
       "4  [(Never, r), (fly, n), (Southwest, n), (Charlo...   \n",
       "\n",
       "                                               Lemma  Sentiment  Analysis  \n",
       "0    Round trip DCA wedding outbound inbound flig...     0.6597  Positive  \n",
       "1    purchase airfare family travel small child p...     0.2783   Neutral  \n",
       "2    never fly Southwest today Awful people rude ...    -0.8020  Negative  \n",
       "3    wife child travel Atlanta Fort Lauderdale st...     0.5256  Positive  \n",
       "4    Never fly Southwest Charlotte kiosk stand li...    -0.4215  Negative  "
      ]
     },
     "execution_count": 44,
     "metadata": {},
     "output_type": "execute_result"
    }
   ],
   "source": [
    "from vaderSentiment.vaderSentiment import SentimentIntensityAnalyzer\n",
    "analyzer = SentimentIntensityAnalyzer()\n",
    "\n",
    "\n",
    "# function to calculate vader sentiment\n",
    "def vadersentimentanalysis(review):\n",
    "    vs = analyzer.polarity_scores(review)\n",
    "    return vs['compound']\n",
    "\n",
    "df['Sentiment'] = df['Lemma'].apply(vadersentimentanalysis)\n",
    "\n",
    "# function to analyse\n",
    "def vader_analysis(compound):\n",
    "    if compound >= 0.5:\n",
    "        return 'Positive'\n",
    "    elif compound < 0 :\n",
    "        return 'Negative'\n",
    "    else:\n",
    "        return 'Neutral'\n",
    "df['Analysis'] = df['Sentiment'].apply(vader_analysis)\n",
    "df.head()"
   ]
  },
  {
   "cell_type": "code",
   "execution_count": 45,
   "id": "acec252e",
   "metadata": {},
   "outputs": [
    {
     "data": {
      "text/plain": [
       "Negative    505\n",
       "Positive    368\n",
       "Neutral     127\n",
       "Name: Analysis, dtype: int64"
      ]
     },
     "execution_count": 45,
     "metadata": {},
     "output_type": "execute_result"
    }
   ],
   "source": [
    "vader_counts = df['Analysis'].value_counts()\n",
    "vader_counts"
   ]
  },
  {
   "cell_type": "markdown",
   "id": "4d5c7322",
   "metadata": {},
   "source": [
    "## Visual representation"
   ]
  },
  {
   "cell_type": "code",
   "execution_count": 47,
   "id": "eb4803dc",
   "metadata": {},
   "outputs": [
    {
     "data": {
      "text/plain": [
       "([<matplotlib.patches.Wedge at 0x7fecb0c13250>,\n",
       "  <matplotlib.patches.Wedge at 0x7fecb0c13190>,\n",
       "  <matplotlib.patches.Wedge at 0x7fecb0c1b190>],\n",
       " [Text(-0.01727803256672635, 1.0998642959886566, 'Negative'),\n",
       "  Text(-0.4113551545846278, -1.0201896572680282, 'Positive'),\n",
       "  Text(1.2439667284310878, -0.5244490237920707, 'Neutral')],\n",
       " [Text(-0.009424381400032553, 0.5999259796301762, '50.5%'),\n",
       "  Text(-0.22437553886434242, -0.5564670857825608, '36.8%'),\n",
       "  Text(0.7832383104936479, -0.33020864460982224, '12.7%')])"
      ]
     },
     "execution_count": 47,
     "metadata": {},
     "output_type": "execute_result"
    },
    {
     "data": {
      "image/png": "[encoded data removed]",
      "text/plain": [
       "<Figure size 1080x504 with 1 Axes>"
      ]
     },
     "metadata": {},
     "output_type": "display_data"
    }
   ],
   "source": [
    "import matplotlib.pyplot as plt\n",
    "%matplotlib inline\n",
    "plt.figure(figsize=(15,7))\n",
    "\n",
    "plt.subplot(1,3,2)\n",
    "plt.title(\"Reviews Analysis\")\n",
    "plt.pie(vader_counts.values, labels = vader_counts.index, explode = (0, 0, 0.25), autopct='%1.1f%%', shadow=False)"
   ]
  },
  {
   "cell_type": "code",
   "execution_count": 48,
   "id": "594d50f8",
   "metadata": {},
   "outputs": [],
   "source": [
    "df.to_csv(\"SouthWest_reviews.csv\")"
   ]
  },
  {
   "cell_type": "markdown",
   "id": "1e032c42",
   "metadata": {},
   "source": [
    "### Wordcloud"
   ]
  },
  {
   "cell_type": "markdown",
   "id": "c84d1ea2",
   "metadata": {},
   "source": [
    "https://github.com/amueller/word_cloud"
   ]
  },
  {
   "cell_type": "code",
   "execution_count": 50,
   "id": "286030b5",
   "metadata": {},
   "outputs": [
    {
     "data": {
      "image/png": "[encoded data removed]",
      "text/plain": [
       "<Figure size 864x864 with 1 Axes>"
      ]
     },
     "metadata": {
      "needs_background": "light"
     },
     "output_type": "display_data"
    }
   ],
   "source": [
    "from wordcloud import WordCloud, STOPWORDS\n",
    "stopwords = set(STOPWORDS)\n",
    "\n",
    "def show_wordcloud(data):\n",
    "    wordcloud = WordCloud(\n",
    "        background_color='white',\n",
    "        stopwords=stopwords,\n",
    "        max_words=100,\n",
    "        max_font_size=30,\n",
    "        scale=3,\n",
    "        random_state=1)\n",
    "\n",
    "    wordcloud=wordcloud.generate(str(data))\n",
    "\n",
    "    fig = plt.figure(1, figsize=(12, 12))\n",
    "    plt.axis('off')\n",
    "\n",
    "    plt.imshow(wordcloud)\n",
    "    plt.show()\n",
    "\n",
    "show_wordcloud(df.Lemma)"
   ]
  },
  {
   "cell_type": "code",
   "execution_count": null,
   "id": "a683a60a",
   "metadata": {},
   "outputs": [],
   "source": []
  }
 ],
 "metadata": {
  "kernelspec": {
   "display_name": "PythonData",
   "language": "python",
   "name": "pythondata"
  },
  "language_info": {
   "codemirror_mode": {
    "name": "ipython",
    "version": 3
   },
   "file_extension": ".py",
   "mimetype": "text/x-python",
   "name": "python",
   "nbconvert_exporter": "python",
   "pygments_lexer": "ipython3",
   "version": "3.7.7"
  }
 },
 "nbformat": 4,
 "nbformat_minor": 5
}
